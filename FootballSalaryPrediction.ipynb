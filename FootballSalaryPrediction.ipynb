{
 "cells": [
  {
   "cell_type": "code",
   "execution_count": 1,
   "id": "9c9ab51b",
   "metadata": {},
   "outputs": [],
   "source": [
    "import numpy as np\n",
    "import pandas as pd\n",
    "import matplotlib.pyplot as plt\n",
    "%matplotlib inline"
   ]
  },
  {
   "cell_type": "code",
   "execution_count": 2,
   "id": "1f449f5c",
   "metadata": {},
   "outputs": [
    {
     "data": {
      "text/html": [
       "<div>\n",
       "<style scoped>\n",
       "    .dataframe tbody tr th:only-of-type {\n",
       "        vertical-align: middle;\n",
       "    }\n",
       "\n",
       "    .dataframe tbody tr th {\n",
       "        vertical-align: top;\n",
       "    }\n",
       "\n",
       "    .dataframe thead th {\n",
       "        text-align: right;\n",
       "    }\n",
       "</style>\n",
       "<table border=\"1\" class=\"dataframe\">\n",
       "  <thead>\n",
       "    <tr style=\"text-align: right;\">\n",
       "      <th></th>\n",
       "      <th>Wage</th>\n",
       "      <th>Age</th>\n",
       "      <th>Club</th>\n",
       "      <th>League</th>\n",
       "      <th>Nation</th>\n",
       "      <th>Position</th>\n",
       "      <th>Apps</th>\n",
       "      <th>Caps</th>\n",
       "    </tr>\n",
       "  </thead>\n",
       "  <tbody>\n",
       "    <tr>\n",
       "      <th>0</th>\n",
       "      <td>46427000</td>\n",
       "      <td>23</td>\n",
       "      <td>PSG</td>\n",
       "      <td>Ligue 1 Uber Eats</td>\n",
       "      <td>FRA</td>\n",
       "      <td>Forward</td>\n",
       "      <td>190</td>\n",
       "      <td>57</td>\n",
       "    </tr>\n",
       "    <tr>\n",
       "      <th>1</th>\n",
       "      <td>42125000</td>\n",
       "      <td>30</td>\n",
       "      <td>PSG</td>\n",
       "      <td>Ligue 1 Uber Eats</td>\n",
       "      <td>BRA</td>\n",
       "      <td>Midfilder</td>\n",
       "      <td>324</td>\n",
       "      <td>119</td>\n",
       "    </tr>\n",
       "    <tr>\n",
       "      <th>2</th>\n",
       "      <td>34821000</td>\n",
       "      <td>35</td>\n",
       "      <td>PSG</td>\n",
       "      <td>Ligue 1 Uber Eats</td>\n",
       "      <td>ARG</td>\n",
       "      <td>Forward</td>\n",
       "      <td>585</td>\n",
       "      <td>162</td>\n",
       "    </tr>\n",
       "    <tr>\n",
       "      <th>3</th>\n",
       "      <td>19959000</td>\n",
       "      <td>31</td>\n",
       "      <td>R. Madrid</td>\n",
       "      <td>La Liga</td>\n",
       "      <td>BEL</td>\n",
       "      <td>Forward</td>\n",
       "      <td>443</td>\n",
       "      <td>120</td>\n",
       "    </tr>\n",
       "    <tr>\n",
       "      <th>4</th>\n",
       "      <td>19500000</td>\n",
       "      <td>31</td>\n",
       "      <td>Man UFC</td>\n",
       "      <td>Premier League</td>\n",
       "      <td>ESP</td>\n",
       "      <td>Goalkeeper</td>\n",
       "      <td>480</td>\n",
       "      <td>45</td>\n",
       "    </tr>\n",
       "  </tbody>\n",
       "</table>\n",
       "</div>"
      ],
      "text/plain": [
       "       Wage  Age       Club             League Nation    Position  Apps  Caps\n",
       "0  46427000   23        PSG  Ligue 1 Uber Eats    FRA     Forward   190    57\n",
       "1  42125000   30        PSG  Ligue 1 Uber Eats    BRA   Midfilder   324   119\n",
       "2  34821000   35        PSG  Ligue 1 Uber Eats    ARG     Forward   585   162\n",
       "3  19959000   31  R. Madrid            La Liga    BEL     Forward   443   120\n",
       "4  19500000   31    Man UFC     Premier League    ESP  Goalkeeper   480    45"
      ]
     },
     "execution_count": 2,
     "metadata": {},
     "output_type": "execute_result"
    }
   ],
   "source": [
    "data=pd.read_csv(\"SalaryPrediction.csv\")\n",
    "data[\"Wage\"]=data[\"Wage\"].str.replace(\",\",\"\")\n",
    "data[\"Wage\"]=data[\"Wage\"].astype(int)\n",
    "data.head()"
   ]
  },
  {
   "cell_type": "code",
   "execution_count": 27,
   "id": "91698ba3",
   "metadata": {},
   "outputs": [
    {
     "name": "stdout",
     "output_type": "stream",
     "text": [
      "For Ligue 1 Uber Eats : 1237426.72\n",
      "For La Liga : 1520234.93\n",
      "For Premier League : 2335982.0\n",
      "For Serie A : 1336126.49\n",
      "For Bundesliga : 1405219.48\n",
      "For Primiera Liga : 194826.57\n"
     ]
    }
   ],
   "source": [
    "for league in data[\"League\"].unique():\n",
    "    print(\"For\",league,\":\",round(data.loc[data[\"League\"]==league][\"Wage\"].mean(),2))"
   ]
  },
  {
   "cell_type": "code",
   "execution_count": 41,
   "id": "dc5ec0ac",
   "metadata": {},
   "outputs": [
    {
     "data": {
      "text/plain": [
       "Text(0.5, 1.0, 'Average Wage according to the leagues')"
      ]
     },
     "execution_count": 41,
     "metadata": {},
     "output_type": "execute_result"
    },
    {
     "data": {
      "image/png": "[encoded data removed]",
      "text/plain": [
       "<Figure size 576x288 with 1 Axes>"
      ]
     },
     "metadata": {
      "needs_background": "light"
     },
     "output_type": "display_data"
    }
   ],
   "source": [
    "d={}\n",
    "for league in data[\"League\"].unique():\n",
    "    d[league]=round(data.loc[data[\"League\"]==league][\"Wage\"].mean(),2)\n",
    "plt.figure(figsize=(8,4))\n",
    "plt.bar(range(len(d)),list(d.values()),tick_label=list(d.keys()))\n",
    "plt.title(\"Average Wage according to the leagues\",size=15)"
   ]
  },
  {
   "cell_type": "code",
   "execution_count": 66,
   "id": "5f96da85",
   "metadata": {},
   "outputs": [
    {
     "name": "stdout",
     "output_type": "stream",
     "text": [
      "For PSG : 11046675.0\n",
      "For R. Madrid : 9128782.61\n",
      "For Man UFC : 4622173.91\n",
      "For Inter : 3611125.0\n",
      "For Liverpool : 3621254.9\n",
      "For Chelsea : 4246629.63\n",
      "For Man City : 4526184.21\n",
      "For A. Madrid : 4096264.71\n",
      "For FC Bayern : 8708043.48\n",
      "For Barcelona : 6313604.17\n",
      "For Tottenham : 2848325.58\n",
      "For Juventus : 4120171.88\n",
      "For Nottm Forest : 1811495.0\n",
      "For A. Bilbao : 1741481.48\n",
      "For Borussia Dortmund : 3907576.92\n",
      "For Capitoline : 2287371.43\n",
      "For Arsenal : 2647700.0\n",
      "For RB Leipzig : 2151500.0\n",
      "For Newcastle : 1857750.0\n",
      "For Leicester : 2058676.47\n",
      "For Sporting CP : 600969.39\n",
      "For Everton : 2072862.5\n",
      "For West Ham : 2321594.59\n",
      "For Crystal Palace : 1666345.24\n",
      "For AS Monaco : 2070666.67\n",
      "For Aston Villa : 1999928.57\n",
      "For OGC Nice : 1578956.52\n",
      "For Lazio : 1892583.33\n",
      "For Milan : 1989975.0\n",
      "For LOSC : 1084727.27\n",
      "For Bayer 04 : 1774585.71\n",
      "For Parthenope : 1796227.94\n",
      "For Wolves : 1561265.96\n",
      "For Sevilla : 1840000.0\n",
      "For Real Hispalis : 1230338.71\n",
      "For Bournemouth : 1392202.7\n",
      "For Southampton : 1674636.36\n",
      "For OL : 2050095.24\n",
      "For Villarreal : 1306518.52\n",
      "For OM : 2016613.64\n",
      "For Leeds : 1553434.21\n",
      "For Sampdoria : 870610.29\n",
      "For Fiorentina : 1216568.18\n",
      "For Sassuolo : 765564.29\n",
      "For Benfica : 702788.89\n",
      "For Fulham : 1580540.54\n",
      "For Salento : 475128.38\n",
      "For Real San Sebastian : 962909.09\n",
      "For Salernitana : 842775.86\n",
      "For Brighton : 1059341.46\n",
      "For Hertha Berlin : 762156.25\n",
      "For Valencia : 612572.37\n",
      "For Borussia M'gladbach : 1682518.52\n",
      "For Torino : 841730.77\n",
      "For Spezia : 775640.62\n",
      "For Getafe : 967435.19\n",
      "For Mallorca : 603666.67\n",
      "For VfL Wolfsburg : 1308691.18\n",
      "For Hoffenheim : 1237088.24\n",
      "For SV Werder : 863045.45\n",
      "For Bologna : 782500.0\n",
      "For Brianza : 872070.31\n",
      "For Atalanta : 1190950.0\n",
      "For Strasbourg : 654022.73\n",
      "For Girona : 553148.15\n",
      "For Eintracht Frankfurt : 980375.0\n",
      "For Vallecano : 510655.17\n",
      "For 1. FC Koln : 620439.39\n",
      "For Verona : 557291.67\n",
      "For Rennes : 1151727.27\n",
      "For Vigo : 645815.71\n",
      "For Brentford : 983212.77\n",
      "For Udinese : 754916.67\n",
      "For FC Porto : 730583.33\n",
      "For Valladolid : 454884.62\n",
      "For Empoli : 679814.29\n",
      "For FC Augsburg : 607092.86\n",
      "For Schalke 04 : 711828.95\n",
      "For SC Freiburg : 402166.67\n",
      "For Mainz 05 : 839250.0\n",
      "For Troyes : 452800.0\n",
      "For Cadiz : 428166.67\n",
      "For Brest : 300844.83\n",
      "For Cremonese : 532607.14\n",
      "For Montpellier : 518208.33\n",
      "For Famalicao : 120611.22\n",
      "For Espanyol : 494866.67\n",
      "For AJ Auxerre : 327720.0\n",
      "For RC Lens : 670479.17\n",
      "For Reims : 443181.82\n",
      "For FC Nantes : 627400.0\n",
      "For Elche : 408558.82\n",
      "For AC Ajaccio : 278981.48\n",
      "For Union Berlin : 588287.88\n",
      "For BRG : 163844.26\n",
      "For Atletico Pamplona : 443720.0\n",
      "For VfB Stuttgart : 407064.52\n",
      "For Almeria : 336500.0\n",
      "For Angers SCO : 374326.92\n",
      "For BVT : 125422.41\n",
      "For FC Lorient : 452380.95\n",
      "For Estoril Praia : 102730.39\n",
      "For VfL Bochum : 291310.81\n",
      "For Santa Clara : 145403.23\n",
      "For Clermont : 356055.56\n",
      "For Toulouse FC : 281980.0\n",
      "For Chaves : 114043.48\n",
      "For Arouca : 80185.19\n",
      "For VTSC : 120645.16\n",
      "For MRT : 61945.31\n",
      "For P. Ferreira : 91163.79\n",
      "For Casa Pia : 85675.0\n",
      "For PTM : 65811.11\n",
      "For Rio Ave : 68371.79\n",
      "For Gil Vicente : 55769.61\n",
      "For VIZ : 47267.54\n"
     ]
    }
   ],
   "source": [
    "for club in data[\"Club\"].unique():\n",
    "    print(\"For\",club,\":\",round(data.loc[data[\"Club\"]==club][\"Wage\"].mean(),2))"
   ]
  },
  {
   "cell_type": "code",
   "execution_count": 74,
   "id": "5192650f",
   "metadata": {
    "scrolled": false
   },
   "outputs": [
    {
     "data": {
      "text/plain": [
       "Text(0.5, 1.0, 'Average Wage according to the clubs')"
      ]
     },
     "execution_count": 74,
     "metadata": {},
     "output_type": "execute_result"
    },
    {
     "data": {
      "image/png": "[encoded data removed]",
      "text/plain": [
       "<Figure size 864x504 with 1 Axes>"
      ]
     },
     "metadata": {
      "needs_background": "light"
     },
     "output_type": "display_data"
    }
   ],
   "source": [
    "#Taking first 10 mostly occured clubs in the dataset as we cant fit every club's average wage in one graph\n",
    "d={}\n",
    "for club in data[\"Club\"].value_counts().nlargest(10).keys():\n",
    "     d[club]=round(data.loc[data[\"Club\"]==club][\"Wage\"].mean(),2)\n",
    "plt.figure(figsize=(12,7))\n",
    "plt.bar(range(len(d)),list(d.values()),tick_label=list(d.keys()))\n",
    "plt.title(\"Average Wage according to the clubs\",size=20)"
   ]
  },
  {
   "cell_type": "code",
   "execution_count": 75,
   "id": "21bc199d",
   "metadata": {},
   "outputs": [
    {
     "data": {
      "text/plain": [
       "array(['FRA', 'BRA', 'ARG', 'BEL', 'ESP', 'AUT', 'EGY', 'ENG', 'NOR',\n",
       "       'GER', 'SVN', 'SEN', 'POL', 'CRO', 'NED', 'POR', 'ITA', 'SRB',\n",
       "       'ALG', 'CIV', 'DEN', 'CRC', 'KOR', 'GHA', 'URU', 'MAR', 'GAB',\n",
       "       'SWE', 'SCO', 'COL', 'TUR', 'BIH', 'UKR', 'USA', 'CMR', 'CAN',\n",
       "       'GUI', 'WAL', 'MLI', 'SUI', 'CTA', 'DOM', 'NIR', 'MEX', 'NGA',\n",
       "       'VEN', 'CZE', 'SVK', 'JAM', 'CHI', 'ARM', 'NZL', 'ZAM', 'JPN',\n",
       "       'RUS', 'PAR', 'ALB', 'IRL', 'MNE', 'KOS', 'FIN', 'GRE', 'AUS',\n",
       "       'BFA', 'ECU', 'ISR', 'HUN', 'IRN', 'COD', 'TOG', 'ROU', 'UZB',\n",
       "       'MKD', 'GNB', 'MOZ', 'GRN', 'GEO', 'ZIM', 'TUN', 'SUR', 'LUX',\n",
       "       'GAM', 'EQG', 'HON', 'MSR', 'BUL', 'ANG', 'RSA', 'BDI', 'CPV',\n",
       "       'CYP', 'PER', 'SLE', 'GLP', 'BEN', 'PHI', 'GUF', 'LBY', 'COM',\n",
       "       'CGO', 'ISL', 'MAD', 'LTU', 'PAN', 'LVA', 'CUW', 'EST', 'IRQ',\n",
       "       'GUY', 'PLE', 'THA', 'CHN', 'BER', 'SIN'], dtype=object)"
      ]
     },
     "execution_count": 75,
     "metadata": {},
     "output_type": "execute_result"
    }
   ],
   "source": [
    "data.Nation.unique()"
   ]
  },
  {
   "cell_type": "code",
   "execution_count": 76,
   "id": "7c8771be",
   "metadata": {},
   "outputs": [
    {
     "data": {
      "text/plain": [
       "Text(0.5, 1.0, 'Average Wage according to the Nations')"
      ]
     },
     "execution_count": 76,
     "metadata": {},
     "output_type": "execute_result"
    },
    {
     "data": {
      "image/png": "[encoded data removed]",
      "text/plain": [
       "<Figure size 864x504 with 1 Axes>"
      ]
     },
     "metadata": {
      "needs_background": "light"
     },
     "output_type": "display_data"
    }
   ],
   "source": [
    "d={}\n",
    "for nation in data[\"Nation\"].value_counts().nlargest(10).keys():\n",
    "     d[nation]=round(data.loc[data[\"Nation\"]==club][\"Wage\"].mean(),2)\n",
    "plt.figure(figsize=(12,7))\n",
    "plt.bar(range(len(d)),list(d.values()),tick_label=list(d.keys()))\n",
    "plt.title(\"Average Wage according to the Nations\",size=20)"
   ]
  },
  {
   "cell_type": "code",
   "execution_count": 77,
   "id": "3793228d",
   "metadata": {},
   "outputs": [
    {
     "data": {
      "text/plain": [
       "Text(0.5, 1.0, 'Average Wage according to the Position')"
      ]
     },
     "execution_count": 77,
     "metadata": {},
     "output_type": "execute_result"
    },
    {
     "data": {
      "image/png": "[encoded data removed]",
      "text/plain": [
       "<Figure size 864x504 with 1 Axes>"
      ]
     },
     "metadata": {
      "needs_background": "light"
     },
     "output_type": "display_data"
    }
   ],
   "source": [
    "d={}\n",
    "for posi in data[\"Position\"].unique():\n",
    "     d[posi]=round(data.loc[data[\"Position\"]==posi][\"Wage\"].mean(),2)\n",
    "plt.figure(figsize=(12,7))\n",
    "plt.bar(range(len(d)),list(d.values()),tick_label=list(d.keys()))\n",
    "plt.title(\"Average Wage according to the Position\",size=20)"
   ]
  },
  {
   "cell_type": "code",
   "execution_count": 9,
   "id": "1d6b921e",
   "metadata": {
    "scrolled": true
   },
   "outputs": [
    {
     "name": "stdout",
     "output_type": "stream",
     "text": [
      "ESP :\n",
      "Forward : 953367.95\n",
      "Midfilder : 1348787.93\n",
      "Goalkeeper : 1430413.04\n",
      "Defender : 1246029.23\n",
      "\n",
      "POR :\n",
      "Forward : 466521.84\n",
      "Midfilder : 721657.26\n",
      "Goalkeeper : 393407.14\n",
      "Defender : 462036.14\n",
      "\n",
      "ENG :\n",
      "Forward : 1262759.38\n",
      "Midfilder : 1900881.47\n",
      "Goalkeeper : 904528.85\n",
      "Defender : 1704444.44\n",
      "\n",
      "FRA :\n",
      "Forward : 2444663.19\n",
      "Midfilder : 1610034.48\n",
      "Goalkeeper : 1029516.67\n",
      "Defender : 1577688.89\n",
      "\n",
      "GER :\n",
      "Forward : 1169511.11\n",
      "Midfilder : 2083755.56\n",
      "Goalkeeper : 1152145.83\n",
      "Defender : 1291608.7\n",
      "\n",
      "ITA :\n",
      "Forward : 967000.0\n",
      "Midfilder : 1553407.26\n",
      "Goalkeeper : 779795.92\n",
      "Defender : 1248831.02\n",
      "\n",
      "BRA :\n",
      "Forward : 1421938.6\n",
      "Midfilder : 2779231.48\n",
      "Goalkeeper : 1038084.62\n",
      "Defender : 1370939.47\n",
      "\n",
      "ARG :\n",
      "Forward : 4265764.71\n",
      "Midfilder : 2810925.93\n",
      "Goalkeeper : 1269800.0\n",
      "Defender : 1558038.46\n",
      "\n",
      "NED :\n",
      "Forward : 1549538.46\n",
      "Midfilder : 2171647.06\n",
      "Goalkeeper : 415166.67\n",
      "Defender : 2447914.47\n",
      "\n",
      "NGA :\n",
      "Forward : 966673.91\n",
      "Midfilder : 1536285.71\n",
      "Goalkeeper : nan\n",
      "Defender : 620687.5\n",
      "\n"
     ]
    }
   ],
   "source": [
    "#getting the average wage of every postion from first 10 nations\n",
    "\n",
    "for nation in data.Nation.value_counts().nlargest(10).keys():\n",
    "    print(nation,\":\")\n",
    "    for posi in data.Position.unique():\n",
    "        print(posi,\":\",round(data.loc[(data[\"Nation\"]==nation) & (data[\"Position\"]==posi)][\"Wage\"].mean(),2))\n",
    "    print()"
   ]
  },
  {
   "cell_type": "code",
   "execution_count": 17,
   "id": "39d5e56b",
   "metadata": {},
   "outputs": [],
   "source": [
    "X=data.drop(\"Wage\",axis=1)\n",
    "y=data[[\"Wage\"]]"
   ]
  },
  {
   "cell_type": "code",
   "execution_count": 23,
   "id": "c7f5eaff",
   "metadata": {},
   "outputs": [
    {
     "data": {
      "text/plain": [
       "Index(['Wage', 'Age', 'Club', 'League', 'Nation', 'Position', 'Apps', 'Caps'], dtype='object')"
      ]
     },
     "execution_count": 23,
     "metadata": {},
     "output_type": "execute_result"
    }
   ],
   "source": [
    "data.columns"
   ]
  },
  {
   "cell_type": "code",
   "execution_count": 25,
   "id": "bde76a16",
   "metadata": {},
   "outputs": [],
   "source": [
    "from sklearn.preprocessing import LabelEncoder,StandardScaler\n",
    "le=LabelEncoder()\n",
    "ss=StandardScaler()\n",
    "\n",
    "X[\"Club\"]=le.fit_transform(X[\"Club\"])\n",
    "X[\"League\"]=le.fit_transform(X[\"League\"])\n",
    "X[\"Nation\"]=le.fit_transform(X[\"Nation\"])\n",
    "X[\"Position\"]=le.fit_transform(X[\"Position\"])\n",
    "\n",
    "X[\"Age\"]=ss.fit_transform(X[[\"Age\"]])\n",
    "X[\"Apps\"]=ss.fit_transform(X[[\"Apps\"]])\n",
    "X[\"Caps\"]=ss.fit_transform(X[[\"Caps\"]])\n",
    "\n",
    "y=ss.fit_transform(y)"
   ]
  },
  {
   "cell_type": "code",
   "execution_count": 31,
   "id": "a5cf1d46",
   "metadata": {},
   "outputs": [
    {
     "name": "stderr",
     "output_type": "stream",
     "text": [
      "<ipython-input-31-24f5f9c2c0d1>:3: DataConversionWarning: A column-vector y was passed when a 1d array was expected. Please change the shape of y to (n_samples,), for example using ravel().\n",
      "  rf.fit(X_train,y_train)\n"
     ]
    },
    {
     "data": {
      "text/plain": [
       "0.4924354218491697"
      ]
     },
     "execution_count": 31,
     "metadata": {},
     "output_type": "execute_result"
    }
   ],
   "source": [
    "from sklearn.model_selection import train_test_split\n",
    "X_train,X_test,y_train,y_test=train_test_split(X,y,test_size=0.3)\n",
    "\n",
    "from sklearn.ensemble import RandomForestRegressor\n",
    "rf=RandomForestRegressor()\n",
    "rf.fit(X_train,y_train)\n",
    "y_pred=rf.predict(X_test)\n",
    "\n",
    "from sklearn.metrics import mean_squared_error\n",
    "er=mean_squared_error(y_test,y_pred)\n",
    "er"
   ]
  },
  {
   "cell_type": "code",
   "execution_count": 39,
   "id": "13419fea",
   "metadata": {
    "scrolled": true
   },
   "outputs": [
    {
     "name": "stderr",
     "output_type": "stream",
     "text": [
      "C:\\Users\\HP\\anaconda3\\lib\\site-packages\\sklearn\\model_selection\\_validation.py:593: DataConversionWarning: A column-vector y was passed when a 1d array was expected. Please change the shape of y to (n_samples,), for example using ravel().\n",
      "  estimator.fit(X_train, y_train, **fit_params)\n",
      "C:\\Users\\HP\\anaconda3\\lib\\site-packages\\sklearn\\model_selection\\_validation.py:593: DataConversionWarning: A column-vector y was passed when a 1d array was expected. Please change the shape of y to (n_samples,), for example using ravel().\n",
      "  estimator.fit(X_train, y_train, **fit_params)\n",
      "C:\\Users\\HP\\anaconda3\\lib\\site-packages\\sklearn\\model_selection\\_validation.py:593: DataConversionWarning: A column-vector y was passed when a 1d array was expected. Please change the shape of y to (n_samples,), for example using ravel().\n",
      "  estimator.fit(X_train, y_train, **fit_params)\n",
      "C:\\Users\\HP\\anaconda3\\lib\\site-packages\\sklearn\\model_selection\\_validation.py:593: DataConversionWarning: A column-vector y was passed when a 1d array was expected. Please change the shape of y to (n_samples,), for example using ravel().\n",
      "  estimator.fit(X_train, y_train, **fit_params)\n",
      "C:\\Users\\HP\\anaconda3\\lib\\site-packages\\sklearn\\model_selection\\_validation.py:593: DataConversionWarning: A column-vector y was passed when a 1d array was expected. Please change the shape of y to (n_samples,), for example using ravel().\n",
      "  estimator.fit(X_train, y_train, **fit_params)\n",
      "C:\\Users\\HP\\anaconda3\\lib\\site-packages\\sklearn\\model_selection\\_validation.py:593: DataConversionWarning: A column-vector y was passed when a 1d array was expected. Please change the shape of y to (n_samples,), for example using ravel().\n",
      "  estimator.fit(X_train, y_train, **fit_params)\n",
      "C:\\Users\\HP\\anaconda3\\lib\\site-packages\\sklearn\\model_selection\\_validation.py:593: DataConversionWarning: A column-vector y was passed when a 1d array was expected. Please change the shape of y to (n_samples,), for example using ravel().\n",
      "  estimator.fit(X_train, y_train, **fit_params)\n",
      "C:\\Users\\HP\\anaconda3\\lib\\site-packages\\sklearn\\model_selection\\_validation.py:593: DataConversionWarning: A column-vector y was passed when a 1d array was expected. Please change the shape of y to (n_samples,), for example using ravel().\n",
      "  estimator.fit(X_train, y_train, **fit_params)\n",
      "C:\\Users\\HP\\anaconda3\\lib\\site-packages\\sklearn\\model_selection\\_validation.py:593: DataConversionWarning: A column-vector y was passed when a 1d array was expected. Please change the shape of y to (n_samples,), for example using ravel().\n",
      "  estimator.fit(X_train, y_train, **fit_params)\n",
      "C:\\Users\\HP\\anaconda3\\lib\\site-packages\\sklearn\\model_selection\\_validation.py:593: DataConversionWarning: A column-vector y was passed when a 1d array was expected. Please change the shape of y to (n_samples,), for example using ravel().\n",
      "  estimator.fit(X_train, y_train, **fit_params)\n",
      "C:\\Users\\HP\\anaconda3\\lib\\site-packages\\sklearn\\model_selection\\_validation.py:593: DataConversionWarning: A column-vector y was passed when a 1d array was expected. Please change the shape of y to (n_samples,), for example using ravel().\n",
      "  estimator.fit(X_train, y_train, **fit_params)\n",
      "C:\\Users\\HP\\anaconda3\\lib\\site-packages\\sklearn\\model_selection\\_validation.py:593: DataConversionWarning: A column-vector y was passed when a 1d array was expected. Please change the shape of y to (n_samples,), for example using ravel().\n",
      "  estimator.fit(X_train, y_train, **fit_params)\n",
      "C:\\Users\\HP\\anaconda3\\lib\\site-packages\\sklearn\\model_selection\\_validation.py:593: DataConversionWarning: A column-vector y was passed when a 1d array was expected. Please change the shape of y to (n_samples,), for example using ravel().\n",
      "  estimator.fit(X_train, y_train, **fit_params)\n",
      "C:\\Users\\HP\\anaconda3\\lib\\site-packages\\sklearn\\model_selection\\_validation.py:593: DataConversionWarning: A column-vector y was passed when a 1d array was expected. Please change the shape of y to (n_samples,), for example using ravel().\n",
      "  estimator.fit(X_train, y_train, **fit_params)\n",
      "C:\\Users\\HP\\anaconda3\\lib\\site-packages\\sklearn\\model_selection\\_validation.py:593: DataConversionWarning: A column-vector y was passed when a 1d array was expected. Please change the shape of y to (n_samples,), for example using ravel().\n",
      "  estimator.fit(X_train, y_train, **fit_params)\n",
      "C:\\Users\\HP\\anaconda3\\lib\\site-packages\\sklearn\\model_selection\\_validation.py:593: DataConversionWarning: A column-vector y was passed when a 1d array was expected. Please change the shape of y to (n_samples,), for example using ravel().\n",
      "  estimator.fit(X_train, y_train, **fit_params)\n",
      "C:\\Users\\HP\\anaconda3\\lib\\site-packages\\sklearn\\model_selection\\_validation.py:593: DataConversionWarning: A column-vector y was passed when a 1d array was expected. Please change the shape of y to (n_samples,), for example using ravel().\n",
      "  estimator.fit(X_train, y_train, **fit_params)\n",
      "C:\\Users\\HP\\anaconda3\\lib\\site-packages\\sklearn\\model_selection\\_validation.py:593: DataConversionWarning: A column-vector y was passed when a 1d array was expected. Please change the shape of y to (n_samples,), for example using ravel().\n",
      "  estimator.fit(X_train, y_train, **fit_params)\n",
      "C:\\Users\\HP\\anaconda3\\lib\\site-packages\\sklearn\\model_selection\\_validation.py:593: DataConversionWarning: A column-vector y was passed when a 1d array was expected. Please change the shape of y to (n_samples,), for example using ravel().\n",
      "  estimator.fit(X_train, y_train, **fit_params)\n",
      "C:\\Users\\HP\\anaconda3\\lib\\site-packages\\sklearn\\model_selection\\_validation.py:593: DataConversionWarning: A column-vector y was passed when a 1d array was expected. Please change the shape of y to (n_samples,), for example using ravel().\n",
      "  estimator.fit(X_train, y_train, **fit_params)\n",
      "C:\\Users\\HP\\anaconda3\\lib\\site-packages\\sklearn\\model_selection\\_validation.py:593: DataConversionWarning: A column-vector y was passed when a 1d array was expected. Please change the shape of y to (n_samples,), for example using ravel().\n",
      "  estimator.fit(X_train, y_train, **fit_params)\n",
      "C:\\Users\\HP\\anaconda3\\lib\\site-packages\\sklearn\\model_selection\\_validation.py:593: DataConversionWarning: A column-vector y was passed when a 1d array was expected. Please change the shape of y to (n_samples,), for example using ravel().\n",
      "  estimator.fit(X_train, y_train, **fit_params)\n",
      "C:\\Users\\HP\\anaconda3\\lib\\site-packages\\sklearn\\model_selection\\_validation.py:593: DataConversionWarning: A column-vector y was passed when a 1d array was expected. Please change the shape of y to (n_samples,), for example using ravel().\n",
      "  estimator.fit(X_train, y_train, **fit_params)\n",
      "C:\\Users\\HP\\anaconda3\\lib\\site-packages\\sklearn\\model_selection\\_validation.py:593: DataConversionWarning: A column-vector y was passed when a 1d array was expected. Please change the shape of y to (n_samples,), for example using ravel().\n",
      "  estimator.fit(X_train, y_train, **fit_params)\n",
      "C:\\Users\\HP\\anaconda3\\lib\\site-packages\\sklearn\\model_selection\\_validation.py:593: DataConversionWarning: A column-vector y was passed when a 1d array was expected. Please change the shape of y to (n_samples,), for example using ravel().\n",
      "  estimator.fit(X_train, y_train, **fit_params)\n",
      "C:\\Users\\HP\\anaconda3\\lib\\site-packages\\sklearn\\model_selection\\_validation.py:593: DataConversionWarning: A column-vector y was passed when a 1d array was expected. Please change the shape of y to (n_samples,), for example using ravel().\n",
      "  estimator.fit(X_train, y_train, **fit_params)\n",
      "C:\\Users\\HP\\anaconda3\\lib\\site-packages\\sklearn\\model_selection\\_validation.py:593: DataConversionWarning: A column-vector y was passed when a 1d array was expected. Please change the shape of y to (n_samples,), for example using ravel().\n",
      "  estimator.fit(X_train, y_train, **fit_params)\n",
      "C:\\Users\\HP\\anaconda3\\lib\\site-packages\\sklearn\\model_selection\\_validation.py:593: DataConversionWarning: A column-vector y was passed when a 1d array was expected. Please change the shape of y to (n_samples,), for example using ravel().\n",
      "  estimator.fit(X_train, y_train, **fit_params)\n",
      "C:\\Users\\HP\\anaconda3\\lib\\site-packages\\sklearn\\model_selection\\_validation.py:593: DataConversionWarning: A column-vector y was passed when a 1d array was expected. Please change the shape of y to (n_samples,), for example using ravel().\n",
      "  estimator.fit(X_train, y_train, **fit_params)\n",
      "C:\\Users\\HP\\anaconda3\\lib\\site-packages\\sklearn\\model_selection\\_validation.py:593: DataConversionWarning: A column-vector y was passed when a 1d array was expected. Please change the shape of y to (n_samples,), for example using ravel().\n",
      "  estimator.fit(X_train, y_train, **fit_params)\n",
      "C:\\Users\\HP\\anaconda3\\lib\\site-packages\\sklearn\\model_selection\\_validation.py:593: DataConversionWarning: A column-vector y was passed when a 1d array was expected. Please change the shape of y to (n_samples,), for example using ravel().\n",
      "  estimator.fit(X_train, y_train, **fit_params)\n",
      "C:\\Users\\HP\\anaconda3\\lib\\site-packages\\sklearn\\model_selection\\_validation.py:593: DataConversionWarning: A column-vector y was passed when a 1d array was expected. Please change the shape of y to (n_samples,), for example using ravel().\n",
      "  estimator.fit(X_train, y_train, **fit_params)\n",
      "C:\\Users\\HP\\anaconda3\\lib\\site-packages\\sklearn\\model_selection\\_validation.py:593: DataConversionWarning: A column-vector y was passed when a 1d array was expected. Please change the shape of y to (n_samples,), for example using ravel().\n",
      "  estimator.fit(X_train, y_train, **fit_params)\n",
      "C:\\Users\\HP\\anaconda3\\lib\\site-packages\\sklearn\\model_selection\\_validation.py:593: DataConversionWarning: A column-vector y was passed when a 1d array was expected. Please change the shape of y to (n_samples,), for example using ravel().\n",
      "  estimator.fit(X_train, y_train, **fit_params)\n",
      "C:\\Users\\HP\\anaconda3\\lib\\site-packages\\sklearn\\model_selection\\_validation.py:593: DataConversionWarning: A column-vector y was passed when a 1d array was expected. Please change the shape of y to (n_samples,), for example using ravel().\n",
      "  estimator.fit(X_train, y_train, **fit_params)\n",
      "C:\\Users\\HP\\anaconda3\\lib\\site-packages\\sklearn\\model_selection\\_validation.py:593: DataConversionWarning: A column-vector y was passed when a 1d array was expected. Please change the shape of y to (n_samples,), for example using ravel().\n",
      "  estimator.fit(X_train, y_train, **fit_params)\n",
      "C:\\Users\\HP\\anaconda3\\lib\\site-packages\\sklearn\\model_selection\\_validation.py:593: DataConversionWarning: A column-vector y was passed when a 1d array was expected. Please change the shape of y to (n_samples,), for example using ravel().\n",
      "  estimator.fit(X_train, y_train, **fit_params)\n",
      "C:\\Users\\HP\\anaconda3\\lib\\site-packages\\sklearn\\model_selection\\_validation.py:593: DataConversionWarning: A column-vector y was passed when a 1d array was expected. Please change the shape of y to (n_samples,), for example using ravel().\n",
      "  estimator.fit(X_train, y_train, **fit_params)\n",
      "C:\\Users\\HP\\anaconda3\\lib\\site-packages\\sklearn\\model_selection\\_validation.py:593: DataConversionWarning: A column-vector y was passed when a 1d array was expected. Please change the shape of y to (n_samples,), for example using ravel().\n",
      "  estimator.fit(X_train, y_train, **fit_params)\n",
      "C:\\Users\\HP\\anaconda3\\lib\\site-packages\\sklearn\\model_selection\\_validation.py:593: DataConversionWarning: A column-vector y was passed when a 1d array was expected. Please change the shape of y to (n_samples,), for example using ravel().\n",
      "  estimator.fit(X_train, y_train, **fit_params)\n",
      "C:\\Users\\HP\\anaconda3\\lib\\site-packages\\sklearn\\model_selection\\_validation.py:593: DataConversionWarning: A column-vector y was passed when a 1d array was expected. Please change the shape of y to (n_samples,), for example using ravel().\n",
      "  estimator.fit(X_train, y_train, **fit_params)\n",
      "C:\\Users\\HP\\anaconda3\\lib\\site-packages\\sklearn\\model_selection\\_validation.py:593: DataConversionWarning: A column-vector y was passed when a 1d array was expected. Please change the shape of y to (n_samples,), for example using ravel().\n",
      "  estimator.fit(X_train, y_train, **fit_params)\n",
      "C:\\Users\\HP\\anaconda3\\lib\\site-packages\\sklearn\\model_selection\\_validation.py:593: DataConversionWarning: A column-vector y was passed when a 1d array was expected. Please change the shape of y to (n_samples,), for example using ravel().\n",
      "  estimator.fit(X_train, y_train, **fit_params)\n",
      "C:\\Users\\HP\\anaconda3\\lib\\site-packages\\sklearn\\model_selection\\_validation.py:593: DataConversionWarning: A column-vector y was passed when a 1d array was expected. Please change the shape of y to (n_samples,), for example using ravel().\n",
      "  estimator.fit(X_train, y_train, **fit_params)\n",
      "C:\\Users\\HP\\anaconda3\\lib\\site-packages\\sklearn\\model_selection\\_validation.py:593: DataConversionWarning: A column-vector y was passed when a 1d array was expected. Please change the shape of y to (n_samples,), for example using ravel().\n",
      "  estimator.fit(X_train, y_train, **fit_params)\n",
      "C:\\Users\\HP\\anaconda3\\lib\\site-packages\\sklearn\\model_selection\\_validation.py:593: DataConversionWarning: A column-vector y was passed when a 1d array was expected. Please change the shape of y to (n_samples,), for example using ravel().\n",
      "  estimator.fit(X_train, y_train, **fit_params)\n",
      "C:\\Users\\HP\\anaconda3\\lib\\site-packages\\sklearn\\model_selection\\_validation.py:593: DataConversionWarning: A column-vector y was passed when a 1d array was expected. Please change the shape of y to (n_samples,), for example using ravel().\n",
      "  estimator.fit(X_train, y_train, **fit_params)\n",
      "C:\\Users\\HP\\anaconda3\\lib\\site-packages\\sklearn\\model_selection\\_validation.py:593: DataConversionWarning: A column-vector y was passed when a 1d array was expected. Please change the shape of y to (n_samples,), for example using ravel().\n",
      "  estimator.fit(X_train, y_train, **fit_params)\n",
      "C:\\Users\\HP\\anaconda3\\lib\\site-packages\\sklearn\\model_selection\\_validation.py:593: DataConversionWarning: A column-vector y was passed when a 1d array was expected. Please change the shape of y to (n_samples,), for example using ravel().\n",
      "  estimator.fit(X_train, y_train, **fit_params)\n",
      "C:\\Users\\HP\\anaconda3\\lib\\site-packages\\sklearn\\model_selection\\_validation.py:593: DataConversionWarning: A column-vector y was passed when a 1d array was expected. Please change the shape of y to (n_samples,), for example using ravel().\n",
      "  estimator.fit(X_train, y_train, **fit_params)\n",
      "C:\\Users\\HP\\anaconda3\\lib\\site-packages\\sklearn\\model_selection\\_validation.py:593: DataConversionWarning: A column-vector y was passed when a 1d array was expected. Please change the shape of y to (n_samples,), for example using ravel().\n",
      "  estimator.fit(X_train, y_train, **fit_params)\n",
      "C:\\Users\\HP\\anaconda3\\lib\\site-packages\\sklearn\\model_selection\\_validation.py:593: DataConversionWarning: A column-vector y was passed when a 1d array was expected. Please change the shape of y to (n_samples,), for example using ravel().\n",
      "  estimator.fit(X_train, y_train, **fit_params)\n",
      "C:\\Users\\HP\\anaconda3\\lib\\site-packages\\sklearn\\model_selection\\_validation.py:593: DataConversionWarning: A column-vector y was passed when a 1d array was expected. Please change the shape of y to (n_samples,), for example using ravel().\n",
      "  estimator.fit(X_train, y_train, **fit_params)\n",
      "C:\\Users\\HP\\anaconda3\\lib\\site-packages\\sklearn\\model_selection\\_validation.py:593: DataConversionWarning: A column-vector y was passed when a 1d array was expected. Please change the shape of y to (n_samples,), for example using ravel().\n",
      "  estimator.fit(X_train, y_train, **fit_params)\n",
      "C:\\Users\\HP\\anaconda3\\lib\\site-packages\\sklearn\\model_selection\\_validation.py:593: DataConversionWarning: A column-vector y was passed when a 1d array was expected. Please change the shape of y to (n_samples,), for example using ravel().\n",
      "  estimator.fit(X_train, y_train, **fit_params)\n",
      "C:\\Users\\HP\\anaconda3\\lib\\site-packages\\sklearn\\model_selection\\_validation.py:593: DataConversionWarning: A column-vector y was passed when a 1d array was expected. Please change the shape of y to (n_samples,), for example using ravel().\n",
      "  estimator.fit(X_train, y_train, **fit_params)\n",
      "C:\\Users\\HP\\anaconda3\\lib\\site-packages\\sklearn\\model_selection\\_validation.py:593: DataConversionWarning: A column-vector y was passed when a 1d array was expected. Please change the shape of y to (n_samples,), for example using ravel().\n",
      "  estimator.fit(X_train, y_train, **fit_params)\n",
      "C:\\Users\\HP\\anaconda3\\lib\\site-packages\\sklearn\\model_selection\\_validation.py:593: DataConversionWarning: A column-vector y was passed when a 1d array was expected. Please change the shape of y to (n_samples,), for example using ravel().\n",
      "  estimator.fit(X_train, y_train, **fit_params)\n",
      "C:\\Users\\HP\\anaconda3\\lib\\site-packages\\sklearn\\model_selection\\_validation.py:593: DataConversionWarning: A column-vector y was passed when a 1d array was expected. Please change the shape of y to (n_samples,), for example using ravel().\n",
      "  estimator.fit(X_train, y_train, **fit_params)\n",
      "C:\\Users\\HP\\anaconda3\\lib\\site-packages\\sklearn\\model_selection\\_validation.py:593: DataConversionWarning: A column-vector y was passed when a 1d array was expected. Please change the shape of y to (n_samples,), for example using ravel().\n",
      "  estimator.fit(X_train, y_train, **fit_params)\n",
      "C:\\Users\\HP\\anaconda3\\lib\\site-packages\\sklearn\\model_selection\\_search.py:880: DataConversionWarning: A column-vector y was passed when a 1d array was expected. Please change the shape of y to (n_samples,), for example using ravel().\n",
      "  self.best_estimator_.fit(X, y, **fit_params)\n"
     ]
    },
    {
     "data": {
      "text/plain": [
       "GridSearchCV(estimator=RandomForestRegressor(),\n",
       "             param_grid={'max_features': ['auto', 'sqrt'],\n",
       "                         'min_samples_leaf': [1, 2],\n",
       "                         'min_samples_split': [2, 5, 10]})"
      ]
     },
     "execution_count": 39,
     "metadata": {},
     "output_type": "execute_result"
    }
   ],
   "source": [
    "n_estimators=[int(x) for x in np.linspace(100,1200,num=100)]\n",
    "max_features=['auto','sqrt']\n",
    "max_depth=[int(x) for x in np.linspace(5,30,num=6)]\n",
    "min_samples_split=[2,5,10]\n",
    "min_samples_leaf=[1,2]\n",
    "\n",
    "from sklearn.model_selection import GridSearchCV\n",
    "random_grid={'max_features': max_features,\n",
    "             'min_samples_split': min_samples_split,\n",
    "             'min_samples_leaf': min_samples_leaf,\n",
    "             }\n",
    "\n",
    "rf=RandomForestRegressor()\n",
    "model=GridSearchCV(estimator=rf,param_grid=random_grid)\n",
    "model.fit(X_train,y_train)"
   ]
  },
  {
   "cell_type": "code",
   "execution_count": 45,
   "id": "b48158d5",
   "metadata": {},
   "outputs": [
    {
     "data": {
      "text/plain": [
       "{'max_features': 'sqrt', 'min_samples_leaf': 1, 'min_samples_split': 5}"
      ]
     },
     "execution_count": 45,
     "metadata": {},
     "output_type": "execute_result"
    }
   ],
   "source": [
    "model.best_params_"
   ]
  },
  {
   "cell_type": "code",
   "execution_count": 47,
   "id": "9bb2d207",
   "metadata": {},
   "outputs": [
    {
     "name": "stderr",
     "output_type": "stream",
     "text": [
      "<ipython-input-47-997565f138b8>:1: DataConversionWarning: A column-vector y was passed when a 1d array was expected. Please change the shape of y to (n_samples,), for example using ravel().\n",
      "  rf.fit(X_train,y_train)\n"
     ]
    },
    {
     "data": {
      "text/plain": [
       "0.45949192019596014"
      ]
     },
     "execution_count": 47,
     "metadata": {},
     "output_type": "execute_result"
    }
   ],
   "source": [
    "rf=RandomForestRegressor(max_features= 'sqrt', min_samples_leaf= 1, min_samples_split = 5)\n",
    "rf.fit(X_train,y_train)\n",
    "predictions=rf.predict(X_test)\n",
    "acc=mean_squared_error(y_test,predictions)\n",
    "acc"
   ]
  },
  {
   "cell_type": "code",
   "execution_count": null,
   "id": "616ce346",
   "metadata": {},
   "outputs": [],
   "source": []
  }
 ],
 "metadata": {
  "kernelspec": {
   "display_name": "Python 3",
   "language": "python",
   "name": "python3"
  },
  "language_info": {
   "codemirror_mode": {
    "name": "ipython",
    "version": 3
   },
   "file_extension": ".py",
   "mimetype": "text/x-python",
   "name": "python",
   "nbconvert_exporter": "python",
   "pygments_lexer": "ipython3",
   "version": "3.8.8"
  }
 },
 "nbformat": 4,
 "nbformat_minor": 5
}
